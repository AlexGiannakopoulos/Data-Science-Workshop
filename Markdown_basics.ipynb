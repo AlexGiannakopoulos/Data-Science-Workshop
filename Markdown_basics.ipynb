{
 "cells": [
  {
   "cell_type": "markdown",
   "id": "b4b9d349-cc88-42fa-944c-ce1283cc4aa6",
   "metadata": {},
   "source": [
    "# \n",
    "Title \n",
    "## Section\n",
    "### Subsection\n",
    "\n",
    "**bold**, *italic*, `code`\n",
    "\n",
    "- Bullet\n",
    "1. Numbered\n",
    "\n",
    "```python def hello(): print(\"Hi\")```\n",
    "\n",
    "Inline: $x^2 + y^2 = z^2$\n",
    "\n",
    "Block:\n",
    "$$\n",
    "\\frac{\\partial y}{\\partial x} = 3x^2\n",
    "$$\n",
    "\n"
   ]
  },
  {
   "cell_type": "code",
   "execution_count": null,
   "id": "d78107a3-7dbb-41fe-9e8c-494f33ab3dd4",
   "metadata": {},
   "outputs": [],
   "source": []
  }
 ],
 "metadata": {
  "kernelspec": {
   "display_name": "Python 3 (ipykernel)",
   "language": "python",
   "name": "python3"
  },
  "language_info": {
   "codemirror_mode": {
    "name": "ipython",
    "version": 3
   },
   "file_extension": ".py",
   "mimetype": "text/x-python",
   "name": "python",
   "nbconvert_exporter": "python",
   "pygments_lexer": "ipython3",
   "version": "3.11.9"
  }
 },
 "nbformat": 4,
 "nbformat_minor": 5
}
