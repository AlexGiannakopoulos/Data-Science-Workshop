{
 "cells": [
  {
   "cell_type": "code",
   "execution_count": 3,
   "id": "96ed98e7-f193-4c2d-b9f7-9fb1a87a90bb",
   "metadata": {},
   "outputs": [],
   "source": [
    "import numpy as np"
   ]
  },
  {
   "cell_type": "code",
   "execution_count": 4,
   "id": "e999e09a-f1bf-4ced-a97c-661ed2e98d0c",
   "metadata": {},
   "outputs": [],
   "source": [
    "a = np.array([1,2])\n",
    "b = np.array([3,4])"
   ]
  },
  {
   "cell_type": "code",
   "execution_count": 5,
   "id": "ed5a132c-d0e9-4357-aa39-f6c57e76efde",
   "metadata": {},
   "outputs": [
    {
     "name": "stdout",
     "output_type": "stream",
     "text": [
      "[4 6]\n"
     ]
    }
   ],
   "source": [
    "print(a + b)"
   ]
  },
  {
   "cell_type": "code",
   "execution_count": 6,
   "id": "467bc5dc-ed76-460a-9043-1fcb2bfb0b2b",
   "metadata": {},
   "outputs": [
    {
     "name": "stdout",
     "output_type": "stream",
     "text": [
      "[2 4]\n"
     ]
    }
   ],
   "source": [
    "print(2 * a)"
   ]
  },
  {
   "cell_type": "code",
   "execution_count": 7,
   "id": "37e34539-87e0-4812-a5c1-54f913d32b40",
   "metadata": {},
   "outputs": [],
   "source": [
    "x = np.array([2, 4])\n",
    "y = np.array([1, 3])"
   ]
  },
  {
   "cell_type": "code",
   "execution_count": 8,
   "id": "bb70d8bb-5ee2-4328-b726-640d824cfa0a",
   "metadata": {},
   "outputs": [
    {
     "name": "stdout",
     "output_type": "stream",
     "text": [
      "[3 7]\n",
      "[1 1]\n",
      "[ 6 12]\n"
     ]
    }
   ],
   "source": [
    "print(x + y)\n",
    "print(x - y)\n",
    "print(3 * x)"
   ]
  },
  {
   "cell_type": "code",
   "execution_count": 9,
   "id": "a5532b2e-446d-4e7c-83eb-3f5fd58b433a",
   "metadata": {},
   "outputs": [
    {
     "name": "stdout",
     "output_type": "stream",
     "text": [
      "11\n"
     ]
    }
   ],
   "source": [
    "dot = np.dot(a, b)\n",
    "print(dot)"
   ]
  },
  {
   "cell_type": "code",
   "execution_count": 10,
   "id": "5a2ef57d-3b6b-43ee-a142-d3421a29a341",
   "metadata": {},
   "outputs": [
    {
     "name": "stdout",
     "output_type": "stream",
     "text": [
      "13\n"
     ]
    }
   ],
   "source": [
    "u = np.array([2, 5])\n",
    "v = np.array([4, 1])\n",
    "dot = np.dot(u, v)\n",
    "print(dot)"
   ]
  },
  {
   "cell_type": "code",
   "execution_count": 29,
   "id": "3b4bb7d6-6496-4a8c-afd5-0538622399bf",
   "metadata": {},
   "outputs": [
    {
     "name": "stdout",
     "output_type": "stream",
     "text": [
      "[[ 4  4]\n",
      " [10  8]]\n"
     ]
    }
   ],
   "source": [
    "A = np.array([[1, 2], [3, 4]])\n",
    "B = np.array([[2, 0], [1, 2]])\n",
    "C = A @ B\n",
    "print(C)"
   ]
  },
  {
   "cell_type": "code",
   "execution_count": 30,
   "id": "d4d3be63-7ecf-485e-8ad0-99c57746d68e",
   "metadata": {},
   "outputs": [
    {
     "name": "stdout",
     "output_type": "stream",
     "text": [
      "[[ 4  4]\n",
      " [10  8]]\n"
     ]
    }
   ],
   "source": [
    "C = np.matmul(A, B) #same as @\n",
    "print(C)"
   ]
  },
  {
   "cell_type": "code",
   "execution_count": 18,
   "id": "1b8869b3-405a-40b3-8b3d-ac2b0228a979",
   "metadata": {},
   "outputs": [
    {
     "name": "stdout",
     "output_type": "stream",
     "text": [
      "[[4 1]\n",
      " [2 2]]\n"
     ]
    }
   ],
   "source": [
    "D = np.array([[1, 0],\n",
    "              [0, 1]])\n",
    "E = np.array([[4, 1], [2, 2]])\n",
    "print(np.matmul(D, E))"
   ]
  },
  {
   "cell_type": "code",
   "execution_count": 31,
   "id": "56cada00-74b0-4ccb-95a8-935d3368c147",
   "metadata": {},
   "outputs": [
    {
     "name": "stdout",
     "output_type": "stream",
     "text": [
      "[[1 4]\n",
      " [2 5]\n",
      " [3 6]]\n"
     ]
    }
   ],
   "source": [
    "A = np.array([[1, 2, 3], \n",
    "              [4, 5, 6]])\n",
    "print(A.T) # Tranposition"
   ]
  },
  {
   "cell_type": "code",
   "execution_count": 25,
   "id": "c4e0427d-cab4-4666-9ba3-38ed8d8096b2",
   "metadata": {},
   "outputs": [
    {
     "name": "stdout",
     "output_type": "stream",
     "text": [
      "5.0\n",
      "10.0\n"
     ]
    }
   ],
   "source": [
    "v = np.array([3, 4])\n",
    "print(np.linalg.norm(v)) #Pythagorean theorem\n",
    "u = np.array([6, 8])\n",
    "print(np.linalg.norm(u))"
   ]
  },
  {
   "cell_type": "code",
   "execution_count": 54,
   "id": "ee19c527-679d-4a01-8d35-f8dffa141e49",
   "metadata": {},
   "outputs": [
    {
     "name": "stdout",
     "output_type": "stream",
     "text": [
      "[[1. 0.]\n",
      " [0. 1.]]\n",
      "[[ 0.6 -0.7]\n",
      " [-0.2  0.4]]\n",
      "[[ 1.00000000e+00 -1.11022302e-16]\n",
      " [ 1.11022302e-16  1.00000000e+00]]\n",
      "True\n"
     ]
    }
   ],
   "source": [
    "I = np.eye(2)  # Identity matrix\n",
    "Z = np.array([[4, 7],\n",
    "              [2, 6]])\n",
    "inv_Z = np.linalg.inv(Z)\n",
    "print(I)\n",
    "print(inv_Z)\n",
    "print(np.dot(Z, inv_Z))  # ~ Identity\n",
    "print(np.allclose(np.dot(Z, inv_Z), np.eye(2))) #checks if matrices are approximately equal"
   ]
  },
  {
   "cell_type": "markdown",
   "id": "b4d20333-edec-49ed-a1b1-ad697a1ca071",
   "metadata": {},
   "source": [
    "### Why is the result not the Identity Matrix\n",
    "\n",
    "- `-1.11022302e-16` and `1.11022302e-16` are approximately 0, and this occurs because computers represent numbers in binary, this can be confirmed by running `np.allclose`"
   ]
  },
  {
   "cell_type": "code",
   "execution_count": null,
   "id": "80880969-2fd4-4803-b8bb-37b15c99dabf",
   "metadata": {},
   "outputs": [],
   "source": []
  }
 ],
 "metadata": {
  "kernelspec": {
   "display_name": "Python 3 (ipykernel)",
   "language": "python",
   "name": "python3"
  },
  "language_info": {
   "codemirror_mode": {
    "name": "ipython",
    "version": 3
   },
   "file_extension": ".py",
   "mimetype": "text/x-python",
   "name": "python",
   "nbconvert_exporter": "python",
   "pygments_lexer": "ipython3",
   "version": "3.11.9"
  }
 },
 "nbformat": 4,
 "nbformat_minor": 5
}
